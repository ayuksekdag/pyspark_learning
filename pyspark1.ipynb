{
  "nbformat": 4,
  "nbformat_minor": 0,
  "metadata": {
    "colab": {
      "name": "pyspark1.ipynb",
      "provenance": [],
      "authorship_tag": "ABX9TyPeX9Z6jrEf00m57inEd8Yd",
      "include_colab_link": true
    },
    "kernelspec": {
      "name": "python3",
      "display_name": "Python 3"
    },
    "language_info": {
      "name": "python"
    }
  },
  "cells": [
    {
      "cell_type": "markdown",
      "metadata": {
        "id": "view-in-github",
        "colab_type": "text"
      },
      "source": [
        "<a href=\"https://colab.research.google.com/github/ayuksekdag/pyspark_learning/blob/main/pyspark1.ipynb\" target=\"_parent\"><img src=\"https://colab.research.google.com/assets/colab-badge.svg\" alt=\"Open In Colab\"/></a>"
      ]
    },
    {
      "cell_type": "markdown",
      "source": [
        "# SETUP "
      ],
      "metadata": {
        "id": "n5ApnEo5jXx9"
      }
    },
    {
      "cell_type": "code",
      "source": [
        "#step 1 check if everything is there\n",
        "!ls"
      ],
      "metadata": {
        "id": "eEs-xLGfh4dX"
      },
      "execution_count": 14,
      "outputs": []
    },
    {
      "cell_type": "code",
      "execution_count": null,
      "metadata": {
        "id": "tj8RYRn6zBtg"
      },
      "outputs": [],
      "source": [
        "# step 2: download spark engine\n",
        "!apt-get update\n",
        "!apt-get install openjdk-8-jdk-headless -qq > /dev/null\n",
        "!wget -q https://archive.apache.org/dist/spark/spark-2.3.1/spark-2.3.1-bin-hadoop2.7.tgz\n",
        "!tar xf spark-2.3.1-bin-hadoop2.7.tgz\n",
        "!pip install -q findspark"
      ]
    },
    {
      "cell_type": "code",
      "source": [
        "# step 3 download crimes files\n",
        "!wget \"https://data.cityofchicago.org/api/views/ijzp-q8t2/rows.csv?accessType=DOWNLOAD&bom=true&format=true&delimiter=%3B\"\n",
        "# rename file\n",
        "!mv \"rows.csv?accessType=DOWNLOAD&bom=true&format=true&delimiter=;\" reported-crimes.csv\n"
      ],
      "metadata": {
        "id": "s4xPBvOyfUeW"
      },
      "execution_count": null,
      "outputs": []
    },
    {
      "cell_type": "code",
      "source": [
        "!ls"
      ],
      "metadata": {
        "colab": {
          "base_uri": "https://localhost:8080/"
        },
        "id": "uF9_t8F5h5kJ",
        "outputId": "27be60cf-cfcc-4d28-9e03-413ec851d47a"
      },
      "execution_count": 13,
      "outputs": [
        {
          "output_type": "stream",
          "name": "stdout",
          "text": [
            "reported-crimes.csv  spark-2.3.1-bin-hadoop2.7\n",
            "sample_data\t     spark-2.3.1-bin-hadoop2.7.tgz\n"
          ]
        }
      ]
    },
    {
      "cell_type": "code",
      "source": [
        "# step 4 set the environment\n",
        "import os\n",
        "os.environ[\"JAVA_HOME\"] = \"/usr/lib/jvm/java-8-openjdk-amd64\"\n",
        "os.environ[\"SPARK_HOME\"] = \"/content/spark-2.3.1-bin-hadoop2.7\"\n",
        "\n",
        "# step 5 check if spark is there\n",
        "import findspark\n",
        "findspark.init()\n",
        "from pyspark import SparkContext\n",
        "\n",
        "sc = SparkContext.getOrCreate() \n",
        "print(sc)\n",
        "\n",
        "#step 6 check if pyspark is there \n",
        "import pyspark\n",
        "from pyspark.sql import SparkSession\n",
        "spark = SparkSession.builder.getOrCreate()\n",
        "print(spark)\n"
      ],
      "metadata": {
        "colab": {
          "base_uri": "https://localhost:8080/"
        },
        "id": "U2ULqzkb1SrV",
        "outputId": "564c25a2-d4ed-4795-d7b8-57413a97d1a2"
      },
      "execution_count": 20,
      "outputs": [
        {
          "output_type": "stream",
          "name": "stdout",
          "text": [
            "<SparkContext master=local[*] appName=pyspark-shell>\n",
            "<pyspark.sql.session.SparkSession object at 0x7f7e791fa8d0>\n"
          ]
        }
      ]
    },
    {
      "cell_type": "markdown",
      "source": [
        ""
      ],
      "metadata": {
        "id": "S7o9EbiMrT7k"
      }
    },
    {
      "cell_type": "code",
      "source": [
        "from pyspark.sql.functions import to_timestamp, col, lit\n",
        " \n",
        "df = spark.read.options( \\\n",
        "                        delimiter=';' \\\n",
        "                        ,header='True' \\\n",
        "                        ,dateFormat = \"yyyy-MM-dd HH:mm:ss a\" \\\n",
        "                        ,inferSchema = \"True\"\n",
        "                        ,nullValue = 'null' \\\n",
        "                        ) \\\n",
        "                        .csv('reported-crimes.csv') \n",
        "# df = spark.read.csv('reported-crimes.csv',header=True)\n",
        "df.show(5)\n",
        "\n"
      ],
      "metadata": {
        "colab": {
          "base_uri": "https://localhost:8080/"
        },
        "id": "UnZ2izM31NJ1",
        "outputId": "3bdb74e6-f190-446a-cfe1-13c4e8325abe"
      },
      "execution_count": 55,
      "outputs": [
        {
          "output_type": "stream",
          "name": "stdout",
          "text": [
            "+--------+-----------+--------------------+--------------------+----+------------+--------------------+--------------------+------+--------+----+--------+----+--------------+--------+------------+------------+----+--------------------+------------+-------------+--------------------+\n",
            "|      ID|Case Number|                Date|               Block|IUCR|Primary Type|         Description|Location Description|Arrest|Domestic|Beat|District|Ward|Community Area|FBI Code|X Coordinate|Y Coordinate|Year|          Updated On|    Latitude|    Longitude|            Location|\n",
            "+--------+-----------+--------------------+--------------------+----+------------+--------------------+--------------------+------+--------+----+--------+----+--------------+--------+------------+------------+----+--------------------+------------+-------------+--------------------+\n",
            "|10224738|   HY411648|09/05/2015 01:30:...|     043XX S WOOD ST|0486|     BATTERY|DOMESTIC BATTERY ...|           RESIDENCE| false|    true| 924|       9|  12|            61|     08B|     1165074|     1875917|2015|02/10/2018 03:50:...|41.815117282|-87.669999562|(41.815117282, -8...|\n",
            "|10224739|   HY411615|09/04/2015 11:30:...| 008XX N CENTRAL AVE|0870|       THEFT|      POCKET-PICKING|             CTA BUS| false|   false|1511|      15|  29|            25|      06|     1138875|     1904869|2015|02/10/2018 03:50:...|41.895080471|-87.765400451|(41.895080471, -8...|\n",
            "|11646166|   JC213529|09/01/2018 12:01:...|082XX S INGLESIDE...|0810|       THEFT|           OVER $500|           RESIDENCE| false|    true| 631|       6|   8|            44|      06|        null|        null|2018|04/06/2019 04:04:...|        null|         null|                null|\n",
            "|10224740|   HY411595|09/05/2015 12:45:...|   035XX W BARRY AVE|2023|   NARCOTICS|POSS: HEROIN(BRN/...|            SIDEWALK|  true|   false|1412|      14|  35|            21|      18|     1152037|     1920384|2015|02/10/2018 03:50:...|41.937405765|-87.716649687|(41.937405765, -8...|\n",
            "|10224741|   HY411610|09/05/2015 01:00:...| 0000X N LARAMIE AVE|0560|     ASSAULT|              SIMPLE|           APARTMENT| false|    true|1522|      15|  28|            25|     08A|     1141706|     1900086|2015|02/10/2018 03:50:...|41.881903443|-87.755121152|(41.881903443, -8...|\n",
            "+--------+-----------+--------------------+--------------------+----+------------+--------------------+--------------------+------+--------+----+--------+----+--------------+--------+------------+------------+----+--------------------+------------+-------------+--------------------+\n",
            "only showing top 5 rows\n",
            "\n"
          ]
        }
      ]
    },
    {
      "cell_type": "code",
      "source": [
        "df.printSchema()"
      ],
      "metadata": {
        "colab": {
          "base_uri": "https://localhost:8080/"
        },
        "id": "ys9s20IBjS0o",
        "outputId": "fd13da09-83ac-4cae-c97b-ee6b4b9952f1"
      },
      "execution_count": 56,
      "outputs": [
        {
          "output_type": "stream",
          "name": "stdout",
          "text": [
            "root\n",
            " |-- ID: integer (nullable = true)\n",
            " |-- Case Number: string (nullable = true)\n",
            " |-- Date: string (nullable = true)\n",
            " |-- Block: string (nullable = true)\n",
            " |-- IUCR: string (nullable = true)\n",
            " |-- Primary Type: string (nullable = true)\n",
            " |-- Description: string (nullable = true)\n",
            " |-- Location Description: string (nullable = true)\n",
            " |-- Arrest: boolean (nullable = true)\n",
            " |-- Domestic: boolean (nullable = true)\n",
            " |-- Beat: integer (nullable = true)\n",
            " |-- District: integer (nullable = true)\n",
            " |-- Ward: integer (nullable = true)\n",
            " |-- Community Area: integer (nullable = true)\n",
            " |-- FBI Code: string (nullable = true)\n",
            " |-- X Coordinate: integer (nullable = true)\n",
            " |-- Y Coordinate: integer (nullable = true)\n",
            " |-- Year: integer (nullable = true)\n",
            " |-- Updated On: string (nullable = true)\n",
            " |-- Latitude: double (nullable = true)\n",
            " |-- Longitude: double (nullable = true)\n",
            " |-- Location: string (nullable = true)\n",
            "\n"
          ]
        }
      ]
    },
    {
      "cell_type": "markdown",
      "source": [
        "#START YOUR CODE "
      ],
      "metadata": {
        "id": "bhRyHt2UjTVB"
      }
    },
    {
      "cell_type": "code",
      "source": [
        "df.select(col('IUCR')).show(5)"
      ],
      "metadata": {
        "colab": {
          "base_uri": "https://localhost:8080/"
        },
        "id": "4EuMDTht2egk",
        "outputId": "9b4691f6-cff1-40b7-ec1e-35812d6fc4a9"
      },
      "execution_count": 65,
      "outputs": [
        {
          "output_type": "stream",
          "name": "stdout",
          "text": [
            "+----+\n",
            "|IUCR|\n",
            "+----+\n",
            "|0486|\n",
            "|0870|\n",
            "|0810|\n",
            "|2023|\n",
            "|0560|\n",
            "+----+\n",
            "only showing top 5 rows\n",
            "\n"
          ]
        }
      ]
    },
    {
      "cell_type": "markdown",
      "source": [
        "add a column with a constant"
      ],
      "metadata": {
        "id": "t7GOhlvI4IvJ"
      }
    },
    {
      "cell_type": "code",
      "source": [
        "df.withColumn('newcol',lit('solved')).show(5)"
      ],
      "metadata": {
        "colab": {
          "base_uri": "https://localhost:8080/"
        },
        "id": "zp1ghdjv4Lvr",
        "outputId": "bf7e268b-899b-4518-c4d0-65d61a136969"
      },
      "execution_count": 66,
      "outputs": [
        {
          "output_type": "stream",
          "name": "stdout",
          "text": [
            "+--------+-----------+--------------------+--------------------+----+------------+--------------------+--------------------+------+--------+----+--------+----+--------------+--------+------------+------------+----+--------------------+------------+-------------+--------------------+------+\n",
            "|      ID|Case Number|                Date|               Block|IUCR|Primary Type|         Description|Location Description|Arrest|Domestic|Beat|District|Ward|Community Area|FBI Code|X Coordinate|Y Coordinate|Year|          Updated On|    Latitude|    Longitude|            Location|newcol|\n",
            "+--------+-----------+--------------------+--------------------+----+------------+--------------------+--------------------+------+--------+----+--------+----+--------------+--------+------------+------------+----+--------------------+------------+-------------+--------------------+------+\n",
            "|10224738|   HY411648|09/05/2015 01:30:...|     043XX S WOOD ST|0486|     BATTERY|DOMESTIC BATTERY ...|           RESIDENCE| false|    true| 924|       9|  12|            61|     08B|     1165074|     1875917|2015|02/10/2018 03:50:...|41.815117282|-87.669999562|(41.815117282, -8...|solved|\n",
            "|10224739|   HY411615|09/04/2015 11:30:...| 008XX N CENTRAL AVE|0870|       THEFT|      POCKET-PICKING|             CTA BUS| false|   false|1511|      15|  29|            25|      06|     1138875|     1904869|2015|02/10/2018 03:50:...|41.895080471|-87.765400451|(41.895080471, -8...|solved|\n",
            "|11646166|   JC213529|09/01/2018 12:01:...|082XX S INGLESIDE...|0810|       THEFT|           OVER $500|           RESIDENCE| false|    true| 631|       6|   8|            44|      06|        null|        null|2018|04/06/2019 04:04:...|        null|         null|                null|solved|\n",
            "|10224740|   HY411595|09/05/2015 12:45:...|   035XX W BARRY AVE|2023|   NARCOTICS|POSS: HEROIN(BRN/...|            SIDEWALK|  true|   false|1412|      14|  35|            21|      18|     1152037|     1920384|2015|02/10/2018 03:50:...|41.937405765|-87.716649687|(41.937405765, -8...|solved|\n",
            "|10224741|   HY411610|09/05/2015 01:00:...| 0000X N LARAMIE AVE|0560|     ASSAULT|              SIMPLE|           APARTMENT| false|    true|1522|      15|  28|            25|     08A|     1141706|     1900086|2015|02/10/2018 03:50:...|41.881903443|-87.755121152|(41.881903443, -8...|solved|\n",
            "+--------+-----------+--------------------+--------------------+----+------------+--------------------+--------------------+------+--------+----+--------+----+--------------+--------+------------+------------+----+--------------------+------------+-------------+--------------------+------+\n",
            "only showing top 5 rows\n",
            "\n"
          ]
        }
      ]
    },
    {
      "cell_type": "markdown",
      "source": [
        "add a Filter "
      ],
      "metadata": {
        "id": "V2yL9csI4nvv"
      }
    },
    {
      "cell_type": "code",
      "source": [
        "df.filter(col('Primary Type')=='BATTERY').show(5)"
      ],
      "metadata": {
        "colab": {
          "base_uri": "https://localhost:8080/"
        },
        "id": "-Hd3hecA4qHh",
        "outputId": "e88ddab1-1953-4214-d114-82fb664e55cf"
      },
      "execution_count": 68,
      "outputs": [
        {
          "output_type": "stream",
          "name": "stdout",
          "text": [
            "+--------+-----------+--------------------+--------------------+----+------------+--------------------+--------------------+------+--------+----+--------+----+--------------+--------+------------+------------+----+--------------------+------------+-------------+--------------------+\n",
            "|      ID|Case Number|                Date|               Block|IUCR|Primary Type|         Description|Location Description|Arrest|Domestic|Beat|District|Ward|Community Area|FBI Code|X Coordinate|Y Coordinate|Year|          Updated On|    Latitude|    Longitude|            Location|\n",
            "+--------+-----------+--------------------+--------------------+----+------------+--------------------+--------------------+------+--------+----+--------+----+--------------+--------+------------+------------+----+--------------------+------------+-------------+--------------------+\n",
            "|10224738|   HY411648|09/05/2015 01:30:...|     043XX S WOOD ST|0486|     BATTERY|DOMESTIC BATTERY ...|           RESIDENCE| false|    true| 924|       9|  12|            61|     08B|     1165074|     1875917|2015|02/10/2018 03:50:...|41.815117282|-87.669999562|(41.815117282, -8...|\n",
            "|10224749|   HY411626|09/05/2015 11:00:...|052XX N MILWAUKEE...|0460|     BATTERY|              SIMPLE|  SMALL RETAIL STORE| false|   false|1623|      16|  45|            11|     08B|     1137969|     1934340|2015|02/10/2018 03:50:...|41.975968415|-87.768014257|(41.975968415, -8...|\n",
            "|10224751|   HY411566|09/05/2015 12:50:...|     013XX E 47TH ST|0486|     BATTERY|DOMESTIC BATTERY ...|              STREET| false|    true| 222|       2|   4|            39|     08B|     1185907|     1874105|2015|02/10/2018 03:50:...|41.809678314|-87.593638934|(41.809678314, -8...|\n",
            "|10224753|   HY411489|09/05/2015 11:45:...|  080XX S JUSTINE ST|0497|     BATTERY|AGGRAVATED DOMEST...|           APARTMENT| false|   false| 612|       6|  21|            71|     04B|     1167400|     1851512|2015|02/10/2018 03:50:...|41.748097343|-87.662166183|(41.748097343, -8...|\n",
            "|10224758|   HY411568|09/05/2015 12:35:...|    059XX W GRACE ST|0486|     BATTERY|DOMESTIC BATTERY ...|              STREET| false|    true|1633|      16|  38|            15|     08B|     1136014|     1924656|2015|02/10/2018 03:50:...|41.949429769|-87.775435529|(41.949429769, -8...|\n",
            "+--------+-----------+--------------------+--------------------+----+------------+--------------------+--------------------+------+--------+----+--------+----+--------------+--------+------------+------------+----+--------------------+------------+-------------+--------------------+\n",
            "only showing top 5 rows\n",
            "\n"
          ]
        }
      ]
    },
    {
      "cell_type": "markdown",
      "source": [
        "unique rows"
      ],
      "metadata": {
        "id": "KOgVRlRs5Gsm"
      }
    },
    {
      "cell_type": "code",
      "source": [
        "df.select(col('Primary Type')).distinct().show(3)"
      ],
      "metadata": {
        "colab": {
          "base_uri": "https://localhost:8080/"
        },
        "id": "4Ag8aYbX5IrE",
        "outputId": "4964b113-8ca1-4893-a6bf-6184cd76ba02"
      },
      "execution_count": 70,
      "outputs": [
        {
          "output_type": "stream",
          "name": "stdout",
          "text": [
            "+--------------------+\n",
            "|        Primary Type|\n",
            "+--------------------+\n",
            "|OFFENSE INVOLVING...|\n",
            "|CRIMINAL SEXUAL A...|\n",
            "|            STALKING|\n",
            "+--------------------+\n",
            "only showing top 3 rows\n",
            "\n"
          ]
        }
      ]
    },
    {
      "cell_type": "markdown",
      "source": [
        "sorting "
      ],
      "metadata": {
        "id": "Oq0H-X4F5sjD"
      }
    },
    {
      "cell_type": "code",
      "source": [
        "df.orderBy(col('Date'),ascending=False).show(3)"
      ],
      "metadata": {
        "colab": {
          "base_uri": "https://localhost:8080/"
        },
        "id": "6aId-ktK5uNC",
        "outputId": "c8fc6b18-3d4c-4dce-e8dd-42332ad11454"
      },
      "execution_count": 74,
      "outputs": [
        {
          "output_type": "stream",
          "name": "stdout",
          "text": [
            "+--------+-----------+--------------------+------------------+----+------------------+--------------------+--------------------+------+--------+----+--------+----+--------------+--------+------------+------------+----+--------------------+------------+-------------+--------------------+\n",
            "|      ID|Case Number|                Date|             Block|IUCR|      Primary Type|         Description|Location Description|Arrest|Domestic|Beat|District|Ward|Community Area|FBI Code|X Coordinate|Y Coordinate|Year|          Updated On|    Latitude|    Longitude|            Location|\n",
            "+--------+-----------+--------------------+------------------+----+------------------+--------------------+--------------------+------+--------+----+--------+----+--------------+--------+------------+------------+----+--------------------+------------+-------------+--------------------+\n",
            "|12581002|   JE493516|12/31/2021 12:55:...| 020XX W NORTH AVE|0460|           BATTERY|              SIMPLE|       BAR OR TAVERN| false|   false|1424|      14|   1|            24|     08B|     1162528|     1910646|2021|01/07/2022 03:47:...|41.910470499|-87.678366829|(41.910470499, -8...|\n",
            "|12582396|   JF100660|12/31/2021 12:49:...|075XX S SEELEY AVE|1154|DECEPTIVE PRACTICE|FINANCIAL IDENTIT...|           RESIDENCE| false|   false| 611|       6|  18|            71|      11|     1164005|     1854518|2021|01/07/2022 03:47:...|41.756418241|-87.674522275|(41.756418241, -8...|\n",
            "|12581977|   JE493937|12/31/2021 12:46:...|   0000X W 79TH ST|0520|           ASSAULT|AGGRAVATED - KNIF...|COMMERCIAL / BUSI...| false|   false| 623|       6|  17|            44|     04A|     1177182|     1852624|2021|01/07/2022 03:47:...| 41.75093383|-87.626288377|(41.75093383, -87...|\n",
            "+--------+-----------+--------------------+------------------+----+------------------+--------------------+--------------------+------+--------+----+--------+----+--------------+--------+------------+------------+----+--------------------+------------+-------------+--------------------+\n",
            "only showing top 3 rows\n",
            "\n"
          ]
        }
      ]
    },
    {
      "cell_type": "code",
      "source": [
        "group by"
      ],
      "metadata": {
        "id": "Zhj-BhdR9IjV"
      },
      "execution_count": null,
      "outputs": []
    },
    {
      "cell_type": "code",
      "source": [
        "df.groupby('Primary Type').count().show()"
      ],
      "metadata": {
        "colab": {
          "base_uri": "https://localhost:8080/"
        },
        "id": "47hbHgMz9NNy",
        "outputId": "6ca5e675-ae5f-41be-9dc5-b1bed76b1fd7"
      },
      "execution_count": 75,
      "outputs": [
        {
          "output_type": "stream",
          "name": "stdout",
          "text": [
            "+--------------------+-------+\n",
            "|        Primary Type|  count|\n",
            "+--------------------+-------+\n",
            "|OFFENSE INVOLVING...|  53324|\n",
            "|CRIMINAL SEXUAL A...|   4751|\n",
            "|            STALKING|   4286|\n",
            "|PUBLIC PEACE VIOL...|  51498|\n",
            "|           OBSCENITY|    763|\n",
            "|NON-CRIMINAL (SUB...|      9|\n",
            "|               ARSON|  12773|\n",
            "|   DOMESTIC VIOLENCE|      1|\n",
            "|            GAMBLING|  14608|\n",
            "|   CRIMINAL TRESPASS| 209566|\n",
            "|             ASSAULT| 484623|\n",
            "|      NON - CRIMINAL|     38|\n",
            "|LIQUOR LAW VIOLATION|  14671|\n",
            "| MOTOR VEHICLE THEFT| 348270|\n",
            "|               THEFT|1582553|\n",
            "|             BATTERY|1378891|\n",
            "|             ROBBERY| 282626|\n",
            "|            HOMICIDE|  11801|\n",
            "|           RITUALISM|     24|\n",
            "|    PUBLIC INDECENCY|    188|\n",
            "+--------------------+-------+\n",
            "only showing top 20 rows\n",
            "\n"
          ]
        }
      ]
    },
    {
      "cell_type": "code",
      "source": [
        "mydf = df.groupby('Primary Type').count()\n",
        "mydf"
      ],
      "metadata": {
        "colab": {
          "base_uri": "https://localhost:8080/"
        },
        "id": "VJwG8VuM9d8e",
        "outputId": "2ed1812e-aecf-47c2-b176-148dfce9d84e"
      },
      "execution_count": 81,
      "outputs": [
        {
          "output_type": "execute_result",
          "data": {
            "text/plain": [
              "DataFrame[Primary Type: string, count: bigint]"
            ]
          },
          "metadata": {},
          "execution_count": 81
        }
      ]
    },
    {
      "cell_type": "code",
      "source": [
        "mypd = df.groupby('Primary Type').count()\n",
        "\n",
        "pandasDF = mypd.toPandas()\n",
        "print(pandasDF)\n",
        "\n",
        "pandasDF.plot()\n"
      ],
      "metadata": {
        "colab": {
          "base_uri": "https://localhost:8080/",
          "height": 935
        },
        "id": "Yb8p8Pi5-jQz",
        "outputId": "ce38229f-7af2-473e-bd40-2cce9d4ec67d"
      },
      "execution_count": 87,
      "outputs": [
        {
          "output_type": "stream",
          "name": "stdout",
          "text": [
            "                         Primary Type    count\n",
            "0          OFFENSE INVOLVING CHILDREN    53324\n",
            "1             CRIMINAL SEXUAL ASSAULT     4751\n",
            "2                            STALKING     4286\n",
            "3              PUBLIC PEACE VIOLATION    51498\n",
            "4                           OBSCENITY      763\n",
            "5    NON-CRIMINAL (SUBJECT SPECIFIED)        9\n",
            "6                               ARSON    12773\n",
            "7                   DOMESTIC VIOLENCE        1\n",
            "8                            GAMBLING    14608\n",
            "9                   CRIMINAL TRESPASS   209566\n",
            "10                            ASSAULT   484623\n",
            "11                     NON - CRIMINAL       38\n",
            "12               LIQUOR LAW VIOLATION    14671\n",
            "13                MOTOR VEHICLE THEFT   348270\n",
            "14                              THEFT  1582553\n",
            "15                            BATTERY  1378891\n",
            "16                            ROBBERY   282626\n",
            "17                           HOMICIDE    11801\n",
            "18                          RITUALISM       24\n",
            "19                   PUBLIC INDECENCY      188\n",
            "20                CRIM SEXUAL ASSAULT    27764\n",
            "21                  HUMAN TRAFFICKING       89\n",
            "22                       INTIMIDATION     4443\n",
            "23                       PROSTITUTION    69530\n",
            "24                 DECEPTIVE PRACTICE   325884\n",
            "25  CONCEALED CARRY LICENSE VIOLATION      887\n",
            "26                        SEX OFFENSE    29248\n",
            "27                    CRIMINAL DAMAGE   856890\n",
            "28                          NARCOTICS   741634\n",
            "29                       NON-CRIMINAL      176\n",
            "30                      OTHER OFFENSE   467727\n",
            "31                         KIDNAPPING     7087\n",
            "32                           BURGLARY   416312\n",
            "33                  WEAPONS VIOLATION    96943\n",
            "34           OTHER NARCOTIC VIOLATION      141\n",
            "35   INTERFERENCE WITH PUBLIC OFFICER    17897\n"
          ]
        },
        {
          "output_type": "execute_result",
          "data": {
            "text/plain": [
              "<matplotlib.axes._subplots.AxesSubplot at 0x7f7e6ecb1c90>"
            ]
          },
          "metadata": {},
          "execution_count": 87
        },
        {
          "output_type": "display_data",
          "data": {
            "text/plain": [
              "<Figure size 432x288 with 1 Axes>"
            ],
            "image/png": "[encoded data removed]"
          },
          "metadata": {
            "needs_background": "light"
          }
        }
      ]
    }
  ]
}